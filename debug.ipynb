{
 "cells": [
  {
   "cell_type": "code",
   "execution_count": 1,
   "metadata": {},
   "outputs": [],
   "source": [
    "import numpy as np"
   ]
  },
  {
   "cell_type": "code",
   "execution_count": 2,
   "metadata": {},
   "outputs": [],
   "source": [
    "num = np.arange(26)\n",
    "alphabet = [\"A\", \"B\", \"C\", \"D\", \"E\", \"F\", \"G\", \"H\", \"I\", \"J\", \"K\", \"L\", \"M\", \"N\", \"O\", \"P\", \"Q\", \"R\", \"S\", \"T\", \"U\", \"V\", \"W\", \"X\", \"Y\", \"Z\"]\n",
    "num_to_alphabet = dict(zip(num, alphabet))\n",
    "alphabet_to_num = dict(zip(alphabet, num))"
   ]
  },
  {
   "cell_type": "code",
   "execution_count": 3,
   "metadata": {},
   "outputs": [],
   "source": [
    "def make_arr(seed):\n",
    "    np.random.seed(seed)\n",
    "    arr = np.arange(26)\n",
    "    np.random.shuffle(arr)\n",
    "    return arr\n",
    "\n",
    "def match_arr(A, a, b):\n",
    "    return num_to_alphabet[np.where(b==a[alphabet_to_num[A]])[0][0]]\n",
    "\n",
    "def make_pairs(ar, seed):\n",
    "    np.random.seed(seed)\n",
    "    np.random.shuffle(ar)\n",
    "    pairs = []\n",
    "    for i in range(0, len(ar) - 1, 2):\n",
    "        pairs.append([ar[i], ar[i + 1]])\n",
    "    return pairs"
   ]
  },
  {
   "cell_type": "code",
   "execution_count": 4,
   "metadata": {},
   "outputs": [
    {
     "name": "stdout",
     "output_type": "stream",
     "text": [
      "B\n"
     ]
    }
   ],
   "source": [
    "a = np.array([1,0,3,2,4])\n",
    "b = np.array([1,2,4,0,3])\n",
    "\n",
    "A = \"D\"\n",
    "\n",
    "print(match_arr(A, b, a))"
   ]
  },
  {
   "cell_type": "code",
   "execution_count": 5,
   "metadata": {},
   "outputs": [],
   "source": [
    "class Rotor:\n",
    "    def __init__(self, seed):\n",
    "        self.seed = seed\n",
    "        self.arr_0 = make_arr(seed)\n",
    "        self.arr_1 = make_arr(seed + 1)\n",
    "    \n",
    "    def encode(self, A):\n",
    "        return match_arr(A, self.arr_0, self.arr_1)\n",
    "    \n",
    "    def decode(self, A):\n",
    "        return match_arr(A, self.arr_1, self.arr_0)\n",
    "    \n",
    "    def rotate(self):\n",
    "        self.arr_0 = np.roll(self.arr_0, 1)\n",
    "        self.arr_1 = np.roll(self.arr_1, 1)\n",
    "\n",
    "class Turnover:\n",
    "    def __init__(self, seed):\n",
    "        self.seed = seed\n",
    "        self.pairs = make_pairs(np.arange(26), seed)\n",
    "        # print(self.pairs)\n",
    "    \n",
    "    def encode(self, A):\n",
    "        for pair in self.pairs:\n",
    "            if A == num_to_alphabet[pair[0]]:\n",
    "                return num_to_alphabet[pair[1]]\n",
    "            elif A == num_to_alphabet[pair[1]]:\n",
    "                return num_to_alphabet[pair[0]]\n",
    "        return A\n",
    "\n",
    "# 関数の呼び出し回数を記録するカウンタ\n",
    "class Counter:\n",
    "    def __init__(self):\n",
    "        self.count = 0\n",
    "    \n",
    "    def count_up(self):\n",
    "        self.count += 1\n",
    "    \n",
    "    def reset(self):\n",
    "        self.count = 0\n",
    "\n",
    "class EnigmaMachine:\n",
    "    def __init__(self, seed):\n",
    "        self.rotor1 = Rotor(seed)\n",
    "        self.rotor2 = Rotor(seed + 1)\n",
    "        self.rotor3 = Rotor(seed + 2)\n",
    "        self.turnover = Turnover(seed + 3)\n",
    "        self.counter = Counter()\n",
    "        \n",
    "    def encode_a_character(self, A):\n",
    "        self.counter.count_up()\n",
    "        # print(A, end=\"\")\n",
    "        A = self.rotor1.encode(A)\n",
    "        # print(A, end=\"\")\n",
    "        A = self.rotor2.encode(A)\n",
    "        # print(A, end=\"\")\n",
    "        A = self.rotor3.encode(A)\n",
    "        # print(A, end=\"\")\n",
    "        A = self.turnover.encode(A)\n",
    "        # print(A, end=\"\")\n",
    "        A = self.rotor3.decode(A)\n",
    "        # print(A, end=\"\")\n",
    "        A = self.rotor2.decode(A)\n",
    "        # print(A, end=\"\")\n",
    "        A = self.rotor1.decode(A)\n",
    "        # print(A)\n",
    "        self.rotor1.rotate()\n",
    "        if self.counter.count % (26) == 0:\n",
    "            self.rotor2.rotate()\n",
    "        if self.counter.count % 26**2 == 0:\n",
    "            self.rotor3.rotate()\n",
    "        return A\n",
    "    \n",
    "    def encode_a_word(self, word):\n",
    "        return \"\".join([self.encode_a_character(A) for A in word])\n",
    "    \n",
    "    def encode(self, text):\n",
    "        text = text.upper()\n",
    "        return \" \".join([self.encode_a_word(word) for word in text.split(\" \")])\n",
    "    \n",
    "    def reset(self):\n",
    "        self.rotor1 = Rotor(self.rotor1.seed)\n",
    "        self.rotor2 = Rotor(self.rotor2.seed)\n",
    "        self.rotor3 = Rotor(self.rotor3.seed)\n",
    "        self.turnover = Turnover(self.turnover.seed)\n",
    "        self.counter.reset()"
   ]
  },
  {
   "cell_type": "code",
   "execution_count": 6,
   "metadata": {},
   "outputs": [
    {
     "name": "stdout",
     "output_type": "stream",
     "text": [
      "WBXEV YLNAM\n",
      "HELLO WORLD\n"
     ]
    }
   ],
   "source": [
    "enigma = EnigmaMachine(0)\n",
    "encoded = enigma.encode(\"HELLO WORLD\")\n",
    "print(encoded)\n",
    "\n",
    "enigma.reset()\n",
    "\n",
    "decoded = enigma.encode(encoded)\n",
    "print(decoded)\n",
    "\n"
   ]
  },
  {
   "cell_type": "code",
   "execution_count": 8,
   "metadata": {},
   "outputs": [
    {
     "name": "stdout",
     "output_type": "stream",
     "text": [
      "GGJXB FWJMP\n",
      "HELLO WORLD\n"
     ]
    }
   ],
   "source": [
    "enigma = EnigmaMachine(1)\n",
    "encoded = enigma.encode(\"Hello World\")\n",
    "print(encoded)\n",
    "\n",
    "enigma.reset()\n",
    "\n",
    "decoded = enigma.encode(encoded)\n",
    "print(decoded)"
   ]
  },
  {
   "cell_type": "code",
   "execution_count": null,
   "metadata": {},
   "outputs": [],
   "source": []
  }
 ],
 "metadata": {
  "kernelspec": {
   "display_name": "base",
   "language": "python",
   "name": "python3"
  },
  "language_info": {
   "codemirror_mode": {
    "name": "ipython",
    "version": 3
   },
   "file_extension": ".py",
   "mimetype": "text/x-python",
   "name": "python",
   "nbconvert_exporter": "python",
   "pygments_lexer": "ipython3",
   "version": "3.11.0"
  },
  "orig_nbformat": 4,
  "vscode": {
   "interpreter": {
    "hash": "9da5afa56e651c7a1c6f5cd9be81fc58fe9f7922f8733eeefb789c2c0637e6e0"
   }
  }
 },
 "nbformat": 4,
 "nbformat_minor": 2
}
