{
 "cells": [
  {
   "cell_type": "code",
   "execution_count": 1,
   "metadata": {},
   "outputs": [],
   "source": [
    "import random\n",
    "import numpy as np"
   ]
  },
  {
   "cell_type": "code",
   "execution_count": 2,
   "metadata": {},
   "outputs": [],
   "source": [
    "num = np.arange(26)\n",
    "alphabet = [\"A\", \"B\", \"C\", \"D\", \"E\", \"F\", \"G\", \"H\", \"I\", \"J\", \"K\", \"L\", \"M\", \"N\", \"O\", \"P\", \"Q\", \"R\", \"S\", \"T\", \"U\", \"V\", \"W\", \"X\", \"Y\", \"Z\"]\n",
    "num_to_alphabet = dict(zip(num, alphabet))\n",
    "alphabet_to_num = dict(zip(alphabet, num))"
   ]
  },
  {
   "cell_type": "code",
   "execution_count": 3,
   "metadata": {},
   "outputs": [],
   "source": [
    "def shuffle_forward(ar, seed):\n",
    "    np.random.seed(seed)\n",
    "    ar = np.array(ar)\n",
    "    np.random.shuffle(ar)\n",
    "    return ar\n",
    "\n",
    "# シャッフルの逆操作\n",
    "def shuffle_backward(ar, seed):\n",
    "    order = np.arange(len(ar))\n",
    "    ar_out = np.full(len(ar), -1)\n",
    "    np.random.seed(seed)\n",
    "    np.random.shuffle(order)\n",
    "    for i, j in enumerate(order):\n",
    "        ar_out[j] = ar[i]\n",
    "    return ar_out\n",
    "\n",
    "def make_pairs(ar, seed):\n",
    "    np.random.seed(seed)\n",
    "    np.random.shuffle(ar)\n",
    "    pairs = []\n",
    "    for i in range(0, len(ar) - 1, 2):\n",
    "        pairs.append([ar[i], ar[i + 1]])\n",
    "    return pairs"
   ]
  },
  {
   "cell_type": "code",
   "execution_count": 4,
   "metadata": {},
   "outputs": [
    {
     "name": "stdout",
     "output_type": "stream",
     "text": [
      "[4, 3, 1, 0, 2]\n",
      "[1 4 3 0 2]\n",
      "[4 3 1 0 2]\n"
     ]
    }
   ],
   "source": [
    "a = [4, 3, 1, 0, 2]\n",
    "print(a)\n",
    "b = shuffle_forward(a, 0)\n",
    "print(b)\n",
    "c = shuffle_backward(b, 0)\n",
    "print(c)\n"
   ]
  },
  {
   "cell_type": "code",
   "execution_count": 7,
   "metadata": {},
   "outputs": [],
   "source": [
    "# make enigma machine parts\n",
    "\n",
    "class Rotor:\n",
    "    def __init__(self, seed):\n",
    "        self.seed = seed\n",
    "        self.forward = shuffle_forward(np.arange(26), seed)\n",
    "        self.backward = shuffle_backward(self.forward, seed)\n",
    "    \n",
    "    def encode(self, A):\n",
    "        return num_to_alphabet[self.forward[alphabet_to_num[A]]]\n",
    "    \n",
    "    def decode(self, A):\n",
    "        return num_to_alphabet[self.backward[alphabet_to_num[A]]]\n",
    "    \n",
    "    def rotate(self):\n",
    "        self.forward = np.roll(self.forward, 1)\n",
    "        self.backward = shuffle_backward(self.forward, self.seed)\n",
    "\n",
    "\n",
    "class Turnover:\n",
    "    def __init__(self, seed):\n",
    "        self.seed = seed\n",
    "        self.pairs = make_pairs(np.arange(26), seed)\n",
    "        # print(self.pairs)\n",
    "    \n",
    "    def encode(self, A):\n",
    "        for pair in self.pairs:\n",
    "            if A == num_to_alphabet[pair[0]]:\n",
    "                return num_to_alphabet[pair[1]]\n",
    "            elif A == num_to_alphabet[pair[1]]:\n",
    "                return num_to_alphabet[pair[0]]\n",
    "        return A\n",
    "\n",
    "# 関数の呼び出し回数を記録するカウンタ\n",
    "class Counter:\n",
    "    def __init__(self):\n",
    "        self.count = 0\n",
    "    \n",
    "    def count_up(self):\n",
    "        self.count += 1\n",
    "    \n",
    "    def reset(self):\n",
    "        self.count = 0\n",
    "\n",
    "class EnigmaMachine:\n",
    "    def __init__(self, seed):\n",
    "        self.rotor1 = Rotor(seed)\n",
    "        self.rotor2 = Rotor(seed + 1)\n",
    "        self.rotor3 = Rotor(seed + 2)\n",
    "        self.turnover = Turnover(seed + 3)\n",
    "        self.counter = Counter()\n",
    "        \n",
    "    def encode(self, A):\n",
    "        self.counter.count_up()\n",
    "        print(A, end=\"\")\n",
    "        A = self.rotor1.encode(A)\n",
    "        print(A, end=\"\")\n",
    "        A = self.rotor2.encode(A)\n",
    "        print(A, end=\"\")\n",
    "        A = self.rotor3.encode(A)\n",
    "        print(A, end=\"\")\n",
    "        A = self.turnover.encode(A)\n",
    "        print(A, end=\"\")\n",
    "        A = self.rotor3.decode(A)\n",
    "        print(A, end=\"\")\n",
    "        A = self.rotor2.decode(A)\n",
    "        print(A, end=\"\")\n",
    "        A = self.rotor1.decode(A)\n",
    "        print(A)\n",
    "        self.rotor1.rotate()\n",
    "        if self.counter.count % (26) == 0:\n",
    "            self.rotor2.rotate()\n",
    "        if self.counter.count % 26**2 == 0:\n",
    "            self.rotor3.rotate()\n",
    "        return A"
   ]
  },
  {
   "cell_type": "code",
   "execution_count": 8,
   "metadata": {},
   "outputs": [
    {
     "name": "stdout",
     "output_type": "stream",
     "text": [
      "ACRHFFFF\n",
      "AMOTAAAD\n",
      "APBATTTN\n",
      "AVJXMMMA\n",
      "AASWBBBN\n",
      "ADDUJJJZ\n",
      "AXMKYYYS\n",
      "AHUSRRRA\n",
      "AJCJUUUH\n",
      "AEWZLLLA\n",
      "['F', 'D', 'N', 'A', 'N', 'Z', 'S', 'A', 'H', 'A']\n",
      "FLGGVVVV\n",
      "DOXNCCCM\n",
      "NBNFHHHE\n",
      "AVJXMMMA\n",
      "NTZIDDDE\n",
      "ZXMKYYYT\n",
      "SKVLZZZN\n",
      "AHUSRRRA\n",
      "HMOTAAAY\n",
      "AEWZLLLA\n",
      "['V', 'M', 'E', 'A', 'E', 'T', 'N', 'A', 'Y', 'A']\n"
     ]
    }
   ],
   "source": [
    "enigma_machine = EnigmaMachine(0)\n",
    "\n",
    "chars = []\n",
    "for i in range(10):\n",
    "    # print(enigma_machine.encode(\"A\"))\n",
    "    chars.append(enigma_machine.encode(\"A\"))\n",
    "\n",
    "print(chars)\n",
    "\n",
    "enigma_machine = EnigmaMachine(0)\n",
    "chars_inversed = []\n",
    "for char in chars:\n",
    "    # print(enigma_machine.encode(char))\n",
    "    chars_inversed.append(enigma_machine.encode(char))\n",
    "\n",
    "print(chars_inversed)\n",
    "    "
   ]
  },
  {
   "cell_type": "code",
   "execution_count": 32,
   "metadata": {},
   "outputs": [
    {
     "data": {
      "text/plain": [
       "array([0, 3, 4, 1, 2])"
      ]
     },
     "execution_count": 32,
     "metadata": {},
     "output_type": "execute_result"
    }
   ],
   "source": [
    "a"
   ]
  },
  {
   "cell_type": "code",
   "execution_count": null,
   "metadata": {},
   "outputs": [],
   "source": []
  }
 ],
 "metadata": {
  "kernelspec": {
   "display_name": "base",
   "language": "python",
   "name": "python3"
  },
  "language_info": {
   "codemirror_mode": {
    "name": "ipython",
    "version": 3
   },
   "file_extension": ".py",
   "mimetype": "text/x-python",
   "name": "python",
   "nbconvert_exporter": "python",
   "pygments_lexer": "ipython3",
   "version": "3.11.0"
  },
  "orig_nbformat": 4,
  "vscode": {
   "interpreter": {
    "hash": "9da5afa56e651c7a1c6f5cd9be81fc58fe9f7922f8733eeefb789c2c0637e6e0"
   }
  }
 },
 "nbformat": 4,
 "nbformat_minor": 2
}
